{
  "cells": [
    {
      "cell_type": "markdown",
      "metadata": {
        "id": "view-in-github",
        "colab_type": "text"
      },
      "source": [
        "<a href=\"https://colab.research.google.com/github/Ruban-31/test-repo/blob/main/SVM_pySpark_ET2_Project.ipynb\" target=\"_parent\"><img src=\"https://colab.research.google.com/assets/colab-badge.svg\" alt=\"Open In Colab\"/></a>"
      ]
    },
    {
      "cell_type": "markdown",
      "source": [
        "# CARDIOVASCULAR DISEASE PREDICTION USING ML WITH PySpark"
      ],
      "metadata": {
        "id": "Lnuffaocjnik"
      }
    },
    {
      "cell_type": "markdown",
      "source": [
        "Furkan Mistry - 2309032\n",
        "\n",
        "Ruban Sivan Perumal - 2309011\n",
        "\n",
        "Aryan Lalka - 2309002"
      ],
      "metadata": {
        "id": "mOaihymT_goe"
      }
    },
    {
      "cell_type": "markdown",
      "source": [
        "## **About Dataset**"
      ],
      "metadata": {
        "id": "wSldHYb5ZRn7"
      }
    },
    {
      "cell_type": "markdown",
      "metadata": {
        "id": "7B3mlbH-3Yo1"
      },
      "source": [
        "The published dataset  (**cardio_train.csv**) has 12 features meaning and types can be listed as follows :\n",
        "\n",
        "\n",
        "| Column | Description |\n",
        "| ------ | ----------- |\n",
        "| age | Age (int)|\n",
        "| height | Height (int) |\n",
        "| weight | Weight (float) |\n",
        "| gender | Gender (categorical code )|\n",
        "| ap_hi | Systolic blood pressure (int) |\n",
        "| ap_lo | Diastolic blood pressure (int) |\n",
        "| cholesterol | Cholesterol (1:normal, 2: above normal, 3: well above normal) |\n",
        "| gluc | Glucose (1:normal, 2: above normal, 3: well above normal) |\n",
        "| smoke | Smoking (binary) |\n",
        "| alco | Alcohol intake (binary) |\n",
        "| active | Physical activity (binary) |\n",
        "| cardio | Presence or absence of cardiovascular disease (binary) |\n",
        "\n",
        "\n",
        "---\n",
        "\n",
        "\n",
        "Our data has three thypes of data: **Quantitative data**, **Categorical data** and **Binary data**"
      ]
    },
    {
      "cell_type": "code",
      "execution_count": null,
      "metadata": {
        "id": "0rSILnAKhFGn",
        "colab": {
          "base_uri": "https://localhost:8080/"
        },
        "outputId": "f32a72bf-e626-4e44-a39b-e27eaf90cc6b"
      },
      "outputs": [
        {
          "output_type": "stream",
          "name": "stdout",
          "text": [
            "Requirement already satisfied: pandas in /usr/local/lib/python3.10/dist-packages (2.1.4)\n",
            "Requirement already satisfied: numpy in /usr/local/lib/python3.10/dist-packages (1.26.4)\n",
            "Requirement already satisfied: matplotlib in /usr/local/lib/python3.10/dist-packages (3.7.1)\n",
            "Requirement already satisfied: scikit-learn in /usr/local/lib/python3.10/dist-packages (1.3.2)\n",
            "Requirement already satisfied: seaborn in /usr/local/lib/python3.10/dist-packages (0.13.1)\n",
            "Requirement already satisfied: python-dateutil>=2.8.2 in /usr/local/lib/python3.10/dist-packages (from pandas) (2.8.2)\n",
            "Requirement already satisfied: pytz>=2020.1 in /usr/local/lib/python3.10/dist-packages (from pandas) (2024.2)\n",
            "Requirement already satisfied: tzdata>=2022.1 in /usr/local/lib/python3.10/dist-packages (from pandas) (2024.1)\n",
            "Requirement already satisfied: contourpy>=1.0.1 in /usr/local/lib/python3.10/dist-packages (from matplotlib) (1.3.0)\n",
            "Requirement already satisfied: cycler>=0.10 in /usr/local/lib/python3.10/dist-packages (from matplotlib) (0.12.1)\n",
            "Requirement already satisfied: fonttools>=4.22.0 in /usr/local/lib/python3.10/dist-packages (from matplotlib) (4.53.1)\n",
            "Requirement already satisfied: kiwisolver>=1.0.1 in /usr/local/lib/python3.10/dist-packages (from matplotlib) (1.4.7)\n",
            "Requirement already satisfied: packaging>=20.0 in /usr/local/lib/python3.10/dist-packages (from matplotlib) (24.1)\n",
            "Requirement already satisfied: pillow>=6.2.0 in /usr/local/lib/python3.10/dist-packages (from matplotlib) (9.4.0)\n",
            "Requirement already satisfied: pyparsing>=2.3.1 in /usr/local/lib/python3.10/dist-packages (from matplotlib) (3.1.4)\n",
            "Requirement already satisfied: scipy>=1.5.0 in /usr/local/lib/python3.10/dist-packages (from scikit-learn) (1.13.1)\n",
            "Requirement already satisfied: joblib>=1.1.1 in /usr/local/lib/python3.10/dist-packages (from scikit-learn) (1.4.2)\n",
            "Requirement already satisfied: threadpoolctl>=2.0.0 in /usr/local/lib/python3.10/dist-packages (from scikit-learn) (3.5.0)\n",
            "Requirement already satisfied: six>=1.5 in /usr/local/lib/python3.10/dist-packages (from python-dateutil>=2.8.2->pandas) (1.16.0)\n"
          ]
        }
      ],
      "source": [
        "!pip install pandas numpy matplotlib scikit-learn seaborn"
      ]
    },
    {
      "cell_type": "markdown",
      "metadata": {
        "id": "o-YDyJEtaTag"
      },
      "source": [
        "**Reading in the raw data set.**"
      ]
    },
    {
      "cell_type": "code",
      "source": [
        "!pip install pyspark"
      ],
      "metadata": {
        "colab": {
          "base_uri": "https://localhost:8080/"
        },
        "id": "6jPaKVtLy9Y4",
        "outputId": "2a67ebf5-82ee-4fd8-c98f-75522b07f535"
      },
      "execution_count": null,
      "outputs": [
        {
          "output_type": "stream",
          "name": "stdout",
          "text": [
            "Collecting pyspark\n",
            "  Downloading pyspark-3.5.2.tar.gz (317.3 MB)\n",
            "\u001b[2K     \u001b[90m━━━━━━━━━━━━━━━━━━━━━━━━━━━━━━━━━━━━━━━━\u001b[0m \u001b[32m317.3/317.3 MB\u001b[0m \u001b[31m4.2 MB/s\u001b[0m eta \u001b[36m0:00:00\u001b[0m\n",
            "\u001b[?25h  Preparing metadata (setup.py) ... \u001b[?25l\u001b[?25hdone\n",
            "Requirement already satisfied: py4j==0.10.9.7 in /usr/local/lib/python3.10/dist-packages (from pyspark) (0.10.9.7)\n",
            "Building wheels for collected packages: pyspark\n",
            "  Building wheel for pyspark (setup.py) ... \u001b[?25l\u001b[?25hdone\n",
            "  Created wheel for pyspark: filename=pyspark-3.5.2-py2.py3-none-any.whl size=317812365 sha256=db7829a00c2586a545d6b1ab0c4dc83d6b5c76812e5b1dfbfa0453d676bb659a\n",
            "  Stored in directory: /root/.cache/pip/wheels/34/34/bd/03944534c44b677cd5859f248090daa9fb27b3c8f8e5f49574\n",
            "Successfully built pyspark\n",
            "Installing collected packages: pyspark\n",
            "Successfully installed pyspark-3.5.2\n"
          ]
        }
      ]
    },
    {
      "cell_type": "code",
      "source": [
        "import pandas as pd\n",
        "import numpy as np\n",
        "\n",
        "import math\n",
        "import matplotlib.pyplot as plt\n",
        "import seaborn as sns\n",
        "\n",
        "from sklearn.preprocessing import StandardScaler\n",
        "from sklearn.preprocessing import MinMaxScaler\n",
        "from sklearn.model_selection import train_test_split\n",
        "from sklearn.metrics import confusion_matrix, classification_report\n",
        "from sklearn.metrics import accuracy_score\n",
        "from sklearn.ensemble import RandomForestClassifier\n",
        "from sklearn import svm\n",
        "from sklearn.svm import LinearSVC\n",
        "\n",
        "from pyspark.sql import SparkSession\n",
        "from pyspark.sql.functions import col, when, count, isnan\n",
        "from pyspark.ml.feature import StandardScaler, MinMaxScaler\n",
        "from pyspark.ml.linalg import Vectors\n",
        "\n",
        "# Initialize Spark session\n",
        "spark = SparkSession.builder.appName(\"cardio_train\").getOrCreate()\n",
        "\n",
        "# Load the dataset into a PySpark DataFrame\n",
        "cardio = spark.read.csv(\"cardio_train.csv\", header=True, inferSchema=True, sep=';')\n",
        "\n"
      ],
      "metadata": {
        "id": "u3-R7XZPzL92"
      },
      "execution_count": null,
      "outputs": []
    },
    {
      "cell_type": "code",
      "source": [
        "cardio.show()"
      ],
      "metadata": {
        "colab": {
          "base_uri": "https://localhost:8080/"
        },
        "id": "ccCebuTSz6zH",
        "outputId": "f879227a-5bb1-4749-958f-ad2cf7a12824"
      },
      "execution_count": null,
      "outputs": [
        {
          "output_type": "stream",
          "name": "stdout",
          "text": [
            "+---+-----+------+------+------+-----+-----+-----------+----+-----+----+------+------+\n",
            "| id|  age|gender|height|weight|ap_hi|ap_lo|cholesterol|gluc|smoke|alco|active|cardio|\n",
            "+---+-----+------+------+------+-----+-----+-----------+----+-----+----+------+------+\n",
            "|  0|18393|     2|   168|  62.0|  110|   80|          1|   1|    0|   0|     1|     0|\n",
            "|  1|20228|     1|   156|  85.0|  140|   90|          3|   1|    0|   0|     1|     1|\n",
            "|  2|18857|     1|   165|  64.0|  130|   70|          3|   1|    0|   0|     0|     1|\n",
            "|  3|17623|     2|   169|  82.0|  150|  100|          1|   1|    0|   0|     1|     1|\n",
            "|  4|17474|     1|   156|  56.0|  100|   60|          1|   1|    0|   0|     0|     0|\n",
            "|  8|21914|     1|   151|  67.0|  120|   80|          2|   2|    0|   0|     0|     0|\n",
            "|  9|22113|     1|   157|  93.0|  130|   80|          3|   1|    0|   0|     1|     0|\n",
            "| 12|22584|     2|   178|  95.0|  130|   90|          3|   3|    0|   0|     1|     1|\n",
            "| 13|17668|     1|   158|  71.0|  110|   70|          1|   1|    0|   0|     1|     0|\n",
            "| 14|19834|     1|   164|  68.0|  110|   60|          1|   1|    0|   0|     0|     0|\n",
            "| 15|22530|     1|   169|  80.0|  120|   80|          1|   1|    0|   0|     1|     0|\n",
            "| 16|18815|     2|   173|  60.0|  120|   80|          1|   1|    0|   0|     1|     0|\n",
            "| 18|14791|     2|   165|  60.0|  120|   80|          1|   1|    0|   0|     0|     0|\n",
            "| 21|19809|     1|   158|  78.0|  110|   70|          1|   1|    0|   0|     1|     0|\n",
            "| 23|14532|     2|   181|  95.0|  130|   90|          1|   1|    1|   1|     1|     0|\n",
            "| 24|16782|     2|   172| 112.0|  120|   80|          1|   1|    0|   0|     0|     1|\n",
            "| 25|21296|     1|   170|  75.0|  130|   70|          1|   1|    0|   0|     0|     0|\n",
            "| 27|16747|     1|   158|  52.0|  110|   70|          1|   3|    0|   0|     1|     0|\n",
            "| 28|17482|     1|   154|  68.0|  100|   70|          1|   1|    0|   0|     0|     0|\n",
            "| 29|21755|     2|   162|  56.0|  120|   70|          1|   1|    1|   0|     1|     0|\n",
            "+---+-----+------+------+------+-----+-----+-----------+----+-----+----+------+------+\n",
            "only showing top 20 rows\n",
            "\n"
          ]
        }
      ]
    },
    {
      "cell_type": "markdown",
      "metadata": {
        "id": "Y6ULzEsrP4xt"
      },
      "source": [
        "# 1 - Data Preprocessing and Exploratory Data Analysis <a class=\"anchor\"  id=\"bir\"></a>"
      ]
    },
    {
      "cell_type": "code",
      "execution_count": null,
      "metadata": {
        "colab": {
          "base_uri": "https://localhost:8080/"
        },
        "id": "Q6tL48gYRZeD",
        "outputId": "8c6a9f69-62a0-4768-b80d-13e420305acf"
      },
      "outputs": [
        {
          "output_type": "stream",
          "name": "stdout",
          "text": [
            "Number of entries in the dataframe: 910000\n",
            "Missing values: 0\n",
            "Dataset contains no Duplicate Values\n"
          ]
        }
      ],
      "source": [
        "# Count missing values (null or NaN) for each column and sum them across the dataframe\n",
        "from pyspark.sql.functions import sum as spark_sum\n",
        "\n",
        "\n",
        "# Count missing values for each column\n",
        "missing_values_per_column = cardio.select([spark_sum(when(col(c).isNull(), 1).otherwise(0)).alias(c) for c in cardio.columns])\n",
        "\n",
        "# Total number of entries\n",
        "num_entries = cardio.count() * len(cardio.columns)\n",
        "print('Number of entries in the dataframe:', num_entries)\n",
        "\n",
        "# Sum the missing values across all columns\n",
        "num_missing_values = missing_values_per_column.select([spark_sum(c) for c in cardio.columns]).collect()[0][0]\n",
        "print('Missing values:', num_missing_values)\n",
        "\n",
        "# Count duplicate rows\n",
        "cardio_dup = cardio.dropDuplicates().count()\n",
        "if cardio_dup < cardio.count():\n",
        "    print(f'Duplicates Rows in Dataset are: {cardio.count() - cardio_dup}')\n",
        "else:\n",
        "    print('Dataset contains no Duplicate Values')\n",
        "\n"
      ]
    },
    {
      "cell_type": "code",
      "execution_count": null,
      "metadata": {
        "colab": {
          "base_uri": "https://localhost:8080/"
        },
        "id": "hR3qHo75vRmI",
        "outputId": "dc777ba1-f6ca-4a76-a02c-92a1510428f0"
      },
      "outputs": [
        {
          "output_type": "execute_result",
          "data": {
            "text/plain": [
              "DataFrame[summary: string, id: string, age: string, gender: string, height: string, weight: string, ap_hi: string, ap_lo: string, cholesterol: string, gluc: string, smoke: string, alco: string, active: string, cardio: string]"
            ]
          },
          "metadata": {},
          "execution_count": 6
        }
      ],
      "source": [
        "cardio.describe()"
      ]
    },
    {
      "cell_type": "markdown",
      "metadata": {
        "id": "5hUwak6q6PRs"
      },
      "source": [
        "**Observations**\n",
        "- 'Age' column has to be recalculated it has a minimum values of 10789' which is unrealistic therefore they represents a missing/incorrect value.\n",
        "- 'Weight' column have unrealistic min/max values.\n",
        "- Systolic blood pressure \"ap_hi\" and Diastolic blood pressure \"ap_lo\" cannot be negative\n",
        "- If ap_hi and ap_lo are more than 180 and 120 mmHg respectively then it is an hypertensive crisis, which is an emergency case. Therefore max values are not realistic.\n",
        "\n"
      ]
    },
    {
      "cell_type": "code",
      "execution_count": null,
      "metadata": {
        "id": "_0XFf1QcWIvd"
      },
      "outputs": [],
      "source": [
        "#Age is written in days, so we're converting it to years\n",
        "# Convert age from days to years\n",
        "cardio = cardio.withColumn(\"age\", col(\"age\") / 365)"
      ]
    },
    {
      "cell_type": "markdown",
      "metadata": {
        "id": "Jk6PRoyyWdO3"
      },
      "source": [
        "## 1.1 - Outlier detection - ap_hi, ap_lo <a class=\"anchor\"  id=\"outlierdetection\"></a>\n",
        "\n",
        "According the figure below we can assume values larger than *280* mm Hg and *120* mm Hg for ap_hi and ap_lo respectively will be dropped as outliers. As well as negative values because they can not be negative."
      ]
    },
    {
      "cell_type": "markdown",
      "source": [
        "![image.png](data:image/png;base64,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)"
      ],
      "metadata": {
        "id": "0_HI_cXG0kNY"
      }
    },
    {
      "cell_type": "code",
      "execution_count": null,
      "metadata": {
        "colab": {
          "base_uri": "https://localhost:8080/"
        },
        "id": "6BgZ1XphWb55",
        "outputId": "cf6a83b5-2d22-423a-db50-e645d46dfd4b"
      },
      "outputs": [
        {
          "output_type": "stream",
          "name": "stdout",
          "text": [
            "We have total 1275 outliers\n",
            "Percent outliers: 1.8%\n"
          ]
        }
      ],
      "source": [
        "# Count outliers for blood pressure (ap_hi and ap_lo)\n",
        "outliers = cardio.filter((col(\"ap_hi\") >= 280) | (col(\"ap_lo\") >= 220) | (col(\"ap_lo\") < 0) | (col(\"ap_hi\") < 0) | (col(\"ap_hi\") < col(\"ap_lo\"))).count()\n",
        "print(f'We have total {outliers} outliers')\n",
        "print(f'Percent outliers: {round(outliers / cardio.count() * 100, 1)}%')"
      ]
    },
    {
      "cell_type": "markdown",
      "source": [
        "### Filtering out the unrealistic data of Systolic blood pressure and Diastolic blood pressure"
      ],
      "metadata": {
        "id": "m6Kv6xXLdq_h"
      }
    },
    {
      "cell_type": "code",
      "execution_count": null,
      "metadata": {
        "id": "4ESYJqaFEYgc"
      },
      "outputs": [],
      "source": [
        "#Filtering out the unrealistic data of Systolic blood pressure and Diastolic blood pressure\n",
        "cardio = cardio.filter((col(\"ap_lo\") >= 0) & (col(\"ap_hi\") >= 0) & (col(\"ap_lo\") <= 220) & (col(\"ap_hi\") <= 280) & (col(\"ap_hi\") > col(\"ap_lo\")))"
      ]
    },
    {
      "cell_type": "code",
      "source": [
        "# Define a function to apply IQR filtering\n",
        "def filter_iqr(df, column, q_low, q_high):\n",
        "    Q1 = df.approxQuantile(column, [q_low], 0.01)[0]\n",
        "    Q3 = df.approxQuantile(column, [q_high], 0.01)[0]\n",
        "    IQR = Q3 - Q1\n",
        "    lower_bound = Q1 - 1.5 * IQR\n",
        "    upper_bound = Q3 + 1.5 * IQR\n",
        "    return df.filter((col(column) >= lower_bound) & (col(column) <= upper_bound))\n",
        "\n",
        "# Apply IQR filtering for ap_hi and ap_lo\n",
        "cardio = filter_iqr(cardio, \"ap_hi\", 0.05, 0.95)\n",
        "cardio = filter_iqr(cardio, \"ap_lo\", 0.05, 0.95)\n"
      ],
      "metadata": {
        "id": "dJURTBJn3Y-G"
      },
      "execution_count": null,
      "outputs": []
    },
    {
      "cell_type": "markdown",
      "metadata": {
        "id": "ilJGjzRQMHts"
      },
      "source": [
        "## 1.2 - IQR based filtering - height, weight <a class=\"anchor\"  id=\"iqr\"></a>\n",
        "\n",
        "Good for skewed data distributions. We can observe lot's of outliers (points below lower fence and above upper fence)\n",
        "\n",
        "\n",
        "\n"
      ]
    },
    {
      "cell_type": "code",
      "execution_count": null,
      "metadata": {
        "id": "kY2UvRZa05Ya"
      },
      "outputs": [],
      "source": [
        "#Filtering out the smallest and tallest human ever known were 54 cm and 251 cm respectively so\n",
        "cardio = cardio.filter((col(\"height\") >= 54) & (col(\"height\") <= 251))"
      ]
    },
    {
      "cell_type": "code",
      "execution_count": null,
      "metadata": {
        "colab": {
          "base_uri": "https://localhost:8080/"
        },
        "id": "QJNV04gkTb5J",
        "outputId": "b7e39359-512c-4107-8017-1dc9688bed22"
      },
      "outputs": [
        {
          "output_type": "stream",
          "name": "stdout",
          "text": [
            "Feature: height | Outliers: 46\n",
            "Feature: weight | Outliers: 24\n"
          ]
        }
      ],
      "source": [
        "# Detect outliers in height and weight based on IQR\n",
        "def detect_outliers(df, col1, col2, q1, q3):\n",
        "    for col_name in [col1, col2]:\n",
        "        Q1 = df.approxQuantile(col_name, [q1], 0.01)[0]\n",
        "        Q3 = df.approxQuantile(col_name, [q3], 0.01)[0]\n",
        "        IQR = Q3 - Q1\n",
        "        lower_bound = Q1 - 1.5 * IQR\n",
        "        upper_bound = Q3 + 1.5 * IQR\n",
        "        outliers = df.filter((col(col_name) < lower_bound) | (col(col_name) > upper_bound)).count()\n",
        "        print(f'Feature: {col_name} | Outliers: {outliers}')\n",
        "\n",
        "detect_outliers(cardio, 'height', 'weight', 0.05, 0.95)\n"
      ]
    },
    {
      "cell_type": "markdown",
      "metadata": {
        "id": "qG6EJa0RV58j"
      },
      "source": [
        "## 1.3 - BMI - filtering <a class=\"anchor\"  id=\"bmi\"></a>"
      ]
    },
    {
      "cell_type": "markdown",
      "metadata": {
        "id": "Kg8M75r6WvZi"
      },
      "source": [
        "we can create new feature BMI (Body Mass Index) with height and weight. It might lead us to get better insights. The BMI says whether the person is in normal health or not . To calcualte it we have a formula\n",
        "\n",
        "\\begin{equation}\n",
        "BMI = \\tfrac{weight}{height^2}\n",
        "\\end{equation}\n",
        "\n",
        "*BMI = kg/m2 where kg is a person's weight in kilograms and m2 is their height in metres squared*"
      ]
    },
    {
      "cell_type": "code",
      "source": [
        "# Calculating BMI\n",
        "cardio = cardio.withColumn(\"BMI\", col(\"weight\") / (col(\"height\") / 100) ** 2)\n",
        "cardio.show(5)\n",
        "# Filter out extreme BMI values\n",
        "cardio_cleaned = cardio.filter((col(\"BMI\") >= 10) & (col(\"BMI\") <= 60))"
      ],
      "metadata": {
        "id": "CKyg6Mdk-Iqx",
        "colab": {
          "base_uri": "https://localhost:8080/"
        },
        "outputId": "e5432677-422d-4547-9e9e-ad62cfbea2f1"
      },
      "execution_count": null,
      "outputs": [
        {
          "output_type": "stream",
          "name": "stdout",
          "text": [
            "+---+------------------+------+------+------+-----+-----+-----------+----+-----+----+------+------+------------------+\n",
            "| id|               age|gender|height|weight|ap_hi|ap_lo|cholesterol|gluc|smoke|alco|active|cardio|               BMI|\n",
            "+---+------------------+------+------+------+-----+-----+-----------+----+-----+----+------+------+------------------+\n",
            "|  0|50.391780821917806|     2|   168|  62.0|  110|   80|          1|   1|    0|   0|     1|     0|  21.9671201814059|\n",
            "|  1| 55.41917808219178|     1|   156|  85.0|  140|   90|          3|   1|    0|   0|     1|     1|34.927679158448385|\n",
            "|  2| 51.66301369863014|     1|   165|  64.0|  130|   70|          3|   1|    0|   0|     0|     1|23.507805325987146|\n",
            "|  3| 48.28219178082192|     2|   169|  82.0|  150|  100|          1|   1|    0|   0|     1|     1| 28.71047932495361|\n",
            "|  4| 47.87397260273973|     1|   156|  56.0|  100|   60|          1|   1|    0|   0|     0|     0|23.011176857330703|\n",
            "+---+------------------+------+------+------+-----+-----+-----------+----+-----+----+------+------+------------------+\n",
            "only showing top 5 rows\n",
            "\n"
          ]
        }
      ]
    },
    {
      "cell_type": "code",
      "source": [
        "# Final dataset after processing\n",
        "print(f'Number of rows of cardio dataset after data preprocessing: {cardio_cleaned.count()}')\n"
      ],
      "metadata": {
        "colab": {
          "base_uri": "https://localhost:8080/"
        },
        "id": "sV6-5O_g3rB_",
        "outputId": "3be7cd8d-4a36-421f-e8e9-2c40a20ec96e"
      },
      "execution_count": null,
      "outputs": [
        {
          "output_type": "stream",
          "name": "stdout",
          "text": [
            "Number of rows of cardio dataset after data preprocessing: 68598\n"
          ]
        }
      ]
    },
    {
      "cell_type": "markdown",
      "metadata": {
        "id": "oh74DA_TTxfe"
      },
      "source": [
        "\n",
        "\n",
        "---\n",
        "\n",
        "\n",
        "\n",
        "**Feature Scaling**\n",
        "\n",
        "- It is crucial for distance based models (KNN, SVM..etc), standardization is performed to prevent features with wider ranges from dominating the distance metric and hence take a lot of time to compute."
      ]
    },
    {
      "cell_type": "code",
      "source": [
        "from pyspark.ml.feature import VectorAssembler\n",
        "from pyspark.ml.feature import StandardScaler\n",
        "\n",
        "# Columns to be scaled\n",
        "columns_to_scale = ['age', 'weight', 'ap_hi', 'ap_lo', 'cholesterol', 'gender', 'BMI', 'height']\n",
        "\n",
        "# Vectorize the features\n",
        "assembler = VectorAssembler(inputCols=columns_to_scale, outputCol=\"features\")\n",
        "vectorized_data = assembler.transform(cardio_cleaned)\n",
        "\n",
        "# Apply StandardScaler\n",
        "scaler = StandardScaler(inputCol=\"features\", outputCol=\"scaled_features\", withStd=True, withMean=True)\n",
        "scaler_model = scaler.fit(vectorized_data)\n",
        "scaled_data = scaler_model.transform(vectorized_data)\n",
        "\n",
        "scaled_data.select(\"scaled_features\").show(5)\n"
      ],
      "metadata": {
        "id": "qUK9nWX2-xyj",
        "colab": {
          "base_uri": "https://localhost:8080/"
        },
        "outputId": "04e1b8d5-d698-4703-8b25-cd9b4a6c48c5"
      },
      "execution_count": null,
      "outputs": [
        {
          "output_type": "stream",
          "name": "stdout",
          "text": [
            "+--------------------+\n",
            "|     scaled_features|\n",
            "+--------------------+\n",
            "|[-0.4340344605634...|\n",
            "|[0.30948080825684...|\n",
            "|[-0.2460284198372...|\n",
            "|[-0.7460272436651...|\n",
            "|[-0.8063998731224...|\n",
            "+--------------------+\n",
            "only showing top 5 rows\n",
            "\n"
          ]
        }
      ]
    },
    {
      "cell_type": "code",
      "source": [
        "from pyspark.ml.feature import MinMaxScaler\n",
        "\n",
        "# Apply MinMaxScaler\n",
        "min_max_scaler = MinMaxScaler(inputCol=\"features\", outputCol=\"minmax_features\")\n",
        "minmax_model = min_max_scaler.fit(vectorized_data)\n",
        "scaled_data_mm = minmax_model.transform(vectorized_data)\n",
        "\n",
        "scaled_data_mm.select(\"minmax_features\").show(5)\n"
      ],
      "metadata": {
        "colab": {
          "base_uri": "https://localhost:8080/"
        },
        "outputId": "bc6dbf7e-3a45-46a8-94ed-852a0f85a78a",
        "id": "qSPsqfcg-yBC"
      },
      "execution_count": null,
      "outputs": [
        {
          "output_type": "stream",
          "name": "stdout",
          "text": [
            "+--------------------+\n",
            "|     minmax_features|\n",
            "+--------------------+\n",
            "|[0.58807588075880...|\n",
            "|[0.73015873015873...|\n",
            "|[0.62400309717382...|\n",
            "|[0.52845528455284...|\n",
            "|[0.51691831204026...|\n",
            "+--------------------+\n",
            "only showing top 5 rows\n",
            "\n"
          ]
        }
      ]
    },
    {
      "cell_type": "markdown",
      "metadata": {
        "id": "xgNldrX67t7S"
      },
      "source": [
        "\n",
        "\n",
        "---\n",
        "\n",
        "\n",
        "**Train test split**\n",
        "\n",
        "Here we will use the most common split ratio 80:20. That means 80% of the dataset goes into the training set and 20% of the dataset goes into the testing set"
      ]
    },
    {
      "cell_type": "code",
      "execution_count": null,
      "metadata": {
        "colab": {
          "base_uri": "https://localhost:8080/"
        },
        "id": "WCPmYz5Jfkzg",
        "outputId": "9f6aa83e-8bb8-46fe-df99-ed5d2d63ebde"
      },
      "outputs": [
        {
          "output_type": "stream",
          "name": "stdout",
          "text": [
            "Non-Scaled Data - Training set size: 54720, Test set size: 13878\n",
            "Standard Scaled Data - Training set size: 54720, Test set size: 13878\n",
            "Min-Max Scaled Data - Training set size: 54720, Test set size: 13878\n"
          ]
        }
      ],
      "source": [
        "from pyspark.ml.feature import VectorAssembler\n",
        "\n",
        "# Columns to be used for assembling features\n",
        "columns_to_scale = ['age', 'weight', 'ap_hi', 'ap_lo', 'cholesterol', 'gender', 'BMI', 'height']\n",
        "\n",
        "# Prepare data for model training by creating feature vectors\n",
        "assembler = VectorAssembler(inputCols=columns_to_scale, outputCol='features')\n",
        "\n",
        "# Apply VectorAssembler to non-scaled data\n",
        "assembler = VectorAssembler(inputCols=columns_to_scale, outputCol='features')\n",
        "cardio_cleaned_assembled = assembler.transform(cardio_cleaned)\n",
        "\n",
        "# Split the data into train and test sets for non-scaled data\n",
        "train_data_cleaned, test_data_cleaned = cardio_cleaned_assembled.randomSplit([0.8, 0.2], seed=42)\n",
        "print(f'Non-Scaled Data - Training set size: {train_data_cleaned.count()}, Test set size: {test_data_cleaned.count()}')\n",
        "\n",
        "# Apply VectorAssembler to standard scaled data with a different output column\n",
        "assembler_scaled = VectorAssembler(inputCols=columns_to_scale, outputCol='features_scaled')\n",
        "scaled_data_assembled = assembler_scaled.transform(scaled_data)\n",
        "train_data_scaled, test_data_scaled = scaled_data_assembled.randomSplit([0.8, 0.2], seed=42)\n",
        "print(f'Standard Scaled Data - Training set size: {train_data_scaled.count()}, Test set size: {test_data_scaled.count()}')\n",
        "\n",
        "# Apply VectorAssembler to min-max scaled data with a different output column\n",
        "assembler_scaled_mm = VectorAssembler(inputCols=columns_to_scale, outputCol='features_minmax')\n",
        "scaled_data_mm_assembled = assembler_scaled_mm.transform(scaled_data_mm)\n",
        "train_data_scaled_mm, test_data_scaled_mm = scaled_data_mm_assembled.randomSplit([0.8, 0.2], seed=42)\n",
        "print(f'Min-Max Scaled Data - Training set size: {train_data_scaled_mm.count()}, Test set size: {test_data_scaled_mm.count()}')\n",
        "\n"
      ]
    },
    {
      "cell_type": "markdown",
      "source": [
        "# **Normal Execution(Without SPARK)**"
      ],
      "metadata": {
        "id": "MdERFNDbAeBa"
      }
    },
    {
      "cell_type": "code",
      "source": [
        "import pandas as pd\n",
        "import numpy as np\n",
        "import time\n",
        "from sklearn.preprocessing import StandardScaler, MinMaxScaler\n",
        "from sklearn.model_selection import train_test_split\n",
        "from sklearn.svm import SVC\n",
        "from sklearn.metrics import accuracy_score\n",
        "\n",
        "# Load the dataset into a pandas DataFrame\n",
        "cardio = pd.read_csv(\"cardio_train.csv\", sep=';')\n",
        "\n",
        "# Preprocessing: Convert age from days to years\n",
        "cardio['age'] = cardio['age'] / 365\n",
        "\n",
        "# Remove unrealistic blood pressure values\n",
        "cardio = cardio[(cardio['ap_lo'] >= 0) & (cardio['ap_hi'] >= 0) &\n",
        "                (cardio['ap_lo'] <= 220) & (cardio['ap_hi'] <= 280) &\n",
        "                (cardio['ap_hi'] > cardio['ap_lo'])]\n",
        "\n",
        "# Apply IQR filtering\n",
        "def filter_iqr(df, column, q_low, q_high):\n",
        "    Q1 = df[column].quantile(q_low)\n",
        "    Q3 = df[column].quantile(q_high)\n",
        "    IQR = Q3 - Q1\n",
        "    lower_bound = Q1 - 1.5 * IQR\n",
        "    upper_bound = Q3 + 1.5 * IQR\n",
        "    return df[(df[column] >= lower_bound) & (df[column] <= upper_bound)]\n",
        "\n",
        "cardio = filter_iqr(cardio, \"ap_hi\", 0.05, 0.95)\n",
        "cardio = filter_iqr(cardio, \"ap_lo\", 0.05, 0.95)\n",
        "\n",
        "# Remove extreme height values\n",
        "cardio = cardio[(cardio['height'] >= 54) & (cardio['height'] <= 251)]\n",
        "\n",
        "# Calculate BMI\n",
        "cardio['BMI'] = cardio['weight'] / (cardio['height'] / 100) ** 2\n",
        "\n",
        "# Filter out extreme BMI values\n",
        "cardio = cardio[(cardio['BMI'] >= 10) & (cardio['BMI'] <= 60)]\n",
        "\n",
        "# Prepare features and target variable\n",
        "X = cardio.drop(['cardio'], axis=1)  # Features\n",
        "y = cardio['cardio']  # Target feature\n",
        "\n",
        "# Standardize features\n",
        "scaler = StandardScaler()\n",
        "X_scaled = scaler.fit_transform(X)\n",
        "\n",
        "# Train-test split\n",
        "X_train, X_test, y_train, y_test = train_test_split(X_scaled, y, test_size=0.2, random_state=42, shuffle=True)\n",
        "\n",
        "# Initialize the SVM model\n",
        "svm_model = SVC(kernel='linear', random_state=42)\n",
        "\n",
        "# Measure the start time\n",
        "start_time = time.time()\n",
        "\n",
        "# Train the SVM model\n",
        "svm_model.fit(X_train, y_train)\n",
        "\n",
        "# Make predictions on the test set\n",
        "y_pred = svm_model.predict(X_test)\n",
        "\n",
        "# Measure the end time\n",
        "end_time = time.time()\n",
        "\n",
        "# Calculate the execution time\n",
        "execution_time = end_time - start_time\n",
        "print(f'Execution Time of SVM Model: {execution_time:.2f} seconds')\n",
        "\n",
        "# Evaluate the model\n",
        "accuracy = accuracy_score(y_test, y_pred)\n",
        "print(f'Accuracy of SVM Model: {accuracy:.4f}')\n"
      ],
      "metadata": {
        "colab": {
          "base_uri": "https://localhost:8080/"
        },
        "id": "zR1UsnhV8ZKf",
        "outputId": "367639e6-27af-470d-f17b-5eab28bdd050"
      },
      "execution_count": null,
      "outputs": [
        {
          "output_type": "stream",
          "name": "stdout",
          "text": [
            "Execution Time of SVM Model: 154.46 seconds\n",
            "Accuracy of SVM Model: 0.7285\n"
          ]
        }
      ]
    },
    {
      "cell_type": "markdown",
      "metadata": {
        "id": "_M4fPhoVnaX_"
      },
      "source": [
        "# **Support Vector Classifier with PySpark**"
      ]
    },
    {
      "cell_type": "code",
      "source": [
        "import time\n",
        "from pyspark.ml.classification import LinearSVC\n",
        "from pyspark.ml.evaluation import MulticlassClassificationEvaluator\n",
        "\n",
        "# Function to train and evaluate SVM model\n",
        "def train_and_evaluate_svm(train_data, test_data, data_type):\n",
        "    print(f\"Training and evaluating SVM model on {data_type} data...\")\n",
        "\n",
        "    # Prepare SVM model\n",
        "    svm = LinearSVC(labelCol='cardio', featuresCol='features', maxIter=10)\n",
        "\n",
        "    # Measure the start time\n",
        "    start_time = time.time()\n",
        "\n",
        "    # Train the SVM model\n",
        "    svm_model = svm.fit(train_data)\n",
        "\n",
        "    # Make predictions on the test set\n",
        "    predictions_svm = svm_model.transform(test_data)\n",
        "\n",
        "    # Measure the end time\n",
        "    end_time = time.time()\n",
        "\n",
        "    # Calculate the execution time\n",
        "    execution_time = end_time - start_time\n",
        "    print(f'Execution Time of SVM Model on {data_type} data: {execution_time:.2f} seconds')\n",
        "\n",
        "    # Evaluate the SVM model predictions\n",
        "    evaluator_accuracy = MulticlassClassificationEvaluator(labelCol='cardio', predictionCol='prediction', metricName='accuracy')\n",
        "    accuracy_svm = evaluator_accuracy.evaluate(predictions_svm)\n",
        "\n",
        "    evaluator_precision = MulticlassClassificationEvaluator(labelCol='cardio', predictionCol='prediction', metricName='weightedPrecision')\n",
        "    precision_svm = evaluator_precision.evaluate(predictions_svm)\n",
        "\n",
        "    evaluator_recall = MulticlassClassificationEvaluator(labelCol='cardio', predictionCol='prediction', metricName='weightedRecall')\n",
        "    recall_svm = evaluator_recall.evaluate(predictions_svm)\n",
        "\n",
        "    evaluator_f1 = MulticlassClassificationEvaluator(labelCol='cardio', predictionCol='prediction', metricName='f1')\n",
        "    f1_svm = evaluator_f1.evaluate(predictions_svm)\n",
        "\n",
        "    print(f'Accuracy of SVM Model on {data_type} data: {accuracy_svm:.4f}')\n",
        "    print(f'Precision of SVM Model on {data_type} data: {precision_svm:.4f}')\n",
        "    print(f'Recall of SVM Model on {data_type} data: {recall_svm:.4f}')\n",
        "    print(f'F1 Score of SVM Model on {data_type} data: {f1_svm:.4f}')\n",
        "    print(\"\\n\")\n",
        "\n",
        "# Train and evaluate on non-scaled data\n",
        "train_and_evaluate_svm(train_data_cleaned, test_data_cleaned, 'non-scaled')\n",
        "\n",
        "# Train and evaluate on standard scaled data\n",
        "train_and_evaluate_svm(train_data_scaled, test_data_scaled, 'standard scaled')\n",
        "\n",
        "# Train and evaluate on min-max scaled data\n",
        "train_and_evaluate_svm(train_data_scaled_mm, test_data_scaled_mm, 'min-max scaled')\n"
      ],
      "metadata": {
        "colab": {
          "base_uri": "https://localhost:8080/"
        },
        "id": "G0uHc2dhAPI4",
        "outputId": "9a452128-880b-4a43-86fd-760681d814b5"
      },
      "execution_count": null,
      "outputs": [
        {
          "output_type": "stream",
          "name": "stdout",
          "text": [
            "Training and evaluating SVM model on non-scaled data...\n",
            "Execution Time of SVM Model on non-scaled data: 8.37 seconds\n",
            "Accuracy of SVM Model on non-scaled data: 0.7224\n",
            "Precision of SVM Model on non-scaled data: 0.7299\n",
            "Recall of SVM Model on non-scaled data: 0.7224\n",
            "F1 Score of SVM Model on non-scaled data: 0.7199\n",
            "\n",
            "\n",
            "Training and evaluating SVM model on standard scaled data...\n",
            "Execution Time of SVM Model on standard scaled data: 6.19 seconds\n",
            "Accuracy of SVM Model on standard scaled data: 0.7224\n",
            "Precision of SVM Model on standard scaled data: 0.7299\n",
            "Recall of SVM Model on standard scaled data: 0.7224\n",
            "F1 Score of SVM Model on standard scaled data: 0.7199\n",
            "\n",
            "\n",
            "Training and evaluating SVM model on min-max scaled data...\n",
            "Execution Time of SVM Model on min-max scaled data: 4.35 seconds\n",
            "Accuracy of SVM Model on min-max scaled data: 0.7224\n",
            "Precision of SVM Model on min-max scaled data: 0.7299\n",
            "Recall of SVM Model on min-max scaled data: 0.7224\n",
            "F1 Score of SVM Model on min-max scaled data: 0.7199\n",
            "\n",
            "\n"
          ]
        }
      ]
    },
    {
      "cell_type": "markdown",
      "source": [
        "## **Hypertuning**"
      ],
      "metadata": {
        "id": "Tv8o-XslC75y"
      }
    },
    {
      "cell_type": "code",
      "source": [
        "import time\n",
        "from pyspark.ml.classification import LinearSVC\n",
        "from pyspark.ml.evaluation import MulticlassClassificationEvaluator\n",
        "from pyspark.ml.tuning import CrossValidator, ParamGridBuilder\n",
        "from pyspark.ml import Pipeline\n",
        "\n",
        "# Define the SVM model with regularization parameter\n",
        "svm = LinearSVC(labelCol='cardio', featuresCol='features_minmax')\n",
        "\n",
        "# Define a smaller parameter grid for faster hyperparameter tuning\n",
        "paramGrid = (ParamGridBuilder()\n",
        "             .addGrid(svm.regParam, [0.1])  # Reduced regularization parameters\n",
        "             .addGrid(svm.maxIter, [50])    # Reduced number of iterations\n",
        "             .build())\n",
        "\n",
        "# Define the evaluator\n",
        "evaluator_accuracy = MulticlassClassificationEvaluator(labelCol='cardio', predictionCol='prediction', metricName='accuracy')\n",
        "\n",
        "# Define cross-validation with fewer folds\n",
        "crossval = CrossValidator(estimator=svm,\n",
        "                          estimatorParamMaps=paramGrid,\n",
        "                          evaluator=evaluator_accuracy,\n",
        "                          numFolds=2,  # Reduced number of folds\n",
        "                          parallelism=4)  # Ensure this matches your cluster capacity\n",
        "\n",
        "# Function to train and evaluate SVM model\n",
        "def train_and_evaluate_svm(train_data, test_data, data_type):\n",
        "    print(f\"Training and evaluating SVM model on {data_type} data...\")\n",
        "\n",
        "    # Measure the start time\n",
        "    start_time = time.time()\n",
        "\n",
        "    # Train the SVM model with cross-validation\n",
        "    cv_model = crossval.fit(train_data)\n",
        "\n",
        "    # Make predictions on the test set\n",
        "    predictions_svm = cv_model.transform(test_data)\n",
        "\n",
        "    # Measure the end time\n",
        "    end_time = time.time()\n",
        "\n",
        "    # Calculate the execution time\n",
        "    execution_time = end_time - start_time\n",
        "    print(f'Execution Time of SVM Model on {data_type} data: {execution_time:.2f} seconds')\n",
        "\n",
        "    # Evaluate the SVM model predictions for accuracy\n",
        "    accuracy_svm = evaluator_accuracy.evaluate(predictions_svm)\n",
        "\n",
        "    print(f'Accuracy of SVM Model on {data_type} data: {accuracy_svm:.4f}')\n",
        "    print(\"\\n\")\n",
        "\n",
        "# Train and evaluate on min-max scaled data\n",
        "train_and_evaluate_svm(train_data_scaled_mm, test_data_scaled_mm, 'min-max scaled')\n"
      ],
      "metadata": {
        "colab": {
          "base_uri": "https://localhost:8080/"
        },
        "id": "JHydKBA4C96y",
        "outputId": "fce99891-c858-46c4-bffa-389fa1b895ef"
      },
      "execution_count": null,
      "outputs": [
        {
          "output_type": "stream",
          "name": "stdout",
          "text": [
            "Training and evaluating SVM model on min-max scaled data...\n",
            "Execution Time of SVM Model on min-max scaled data: 17.13 seconds\n",
            "Accuracy of SVM Model on min-max scaled data: 0.7219\n",
            "\n",
            "\n"
          ]
        }
      ]
    },
    {
      "cell_type": "markdown",
      "source": [
        "As one can see pySpark execution is alot faster"
      ],
      "metadata": {
        "id": "oQKthDkPMfsu"
      }
    }
  ],
  "metadata": {
    "accelerator": "GPU",
    "colab": {
      "gpuType": "T4",
      "provenance": [],
      "include_colab_link": true
    },
    "kernelspec": {
      "display_name": "Python 3",
      "name": "python3"
    },
    "language_info": {
      "codemirror_mode": {
        "name": "ipython",
        "version": 3
      },
      "file_extension": ".py",
      "mimetype": "text/x-python",
      "name": "python",
      "nbconvert_exporter": "python",
      "pygments_lexer": "ipython3",
      "version": "3.7.12"
    }
  },
  "nbformat": 4,
  "nbformat_minor": 0
}